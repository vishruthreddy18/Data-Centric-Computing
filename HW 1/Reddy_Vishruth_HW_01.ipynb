{
 "cells": [
  {
   "cell_type": "markdown",
   "metadata": {},
   "source": [
    "# CMPINF 2100: Homework 01\n",
    "\n",
    "Vishruth Reddy\n",
    "\n",
    "## Assigned: Tuesday of Week 01 at 11:00PM\n",
    "\n",
    "## DUE: Tuesday of Week 02 at 11:59PM\n",
    "\n",
    "This is a simple assignment that demonstrates you have properly installed the software. You will practice using simple Python commands within the cells of a Jupyter notebook and work with Markdown.  \n",
    "\n",
    "You may add as many code and markdown cells as you see fit to answer the questions.\n",
    "\n",
    "### Collaborators\n",
    "\n",
    "None"
   ]
  },
  {
   "cell_type": "markdown",
   "metadata": {},
   "source": [
    "## Problem 01\n",
    "\n",
    "Let's get some practice with assigning variables and data types."
   ]
  },
  {
   "cell_type": "markdown",
   "metadata": {},
   "source": [
    "### 1a) - QUESTION\n",
    "\n",
    "Assign the integer `3` to the variable `x`. "
   ]
  },
  {
   "cell_type": "markdown",
   "metadata": {},
   "source": [
    "#### 1a) - SOLUTION"
   ]
  },
  {
   "cell_type": "code",
   "execution_count": 1,
   "metadata": {},
   "outputs": [],
   "source": [
    "x = 3"
   ]
  },
  {
   "cell_type": "markdown",
   "metadata": {},
   "source": [
    "### 1b) - QUESTION\n",
    "\n",
    "Use the `print()` function to display the **data type** associated with the variable `x`."
   ]
  },
  {
   "cell_type": "markdown",
   "metadata": {},
   "source": [
    "#### 1b) - SOLUTION"
   ]
  },
  {
   "cell_type": "code",
   "execution_count": 2,
   "metadata": {},
   "outputs": [
    {
     "name": "stdout",
     "output_type": "stream",
     "text": [
      "<class 'int'>\n"
     ]
    }
   ],
   "source": [
    "print(type(x))"
   ]
  },
  {
   "cell_type": "markdown",
   "metadata": {},
   "source": [
    "### 1c) - QUESTION\n",
    "\n",
    "Add the floating point number `4.4` to the variable `x` and assign the result to the variable `y`. Print the **data type** associated with the variable `y` to the screen."
   ]
  },
  {
   "cell_type": "markdown",
   "metadata": {},
   "source": [
    "#### 1c) - SOLUTION"
   ]
  },
  {
   "cell_type": "code",
   "execution_count": 3,
   "metadata": {},
   "outputs": [
    {
     "name": "stdout",
     "output_type": "stream",
     "text": [
      "<class 'float'>\n"
     ]
    }
   ],
   "source": [
    "x = 4.4\n",
    "y = x\n",
    "print(type(y))"
   ]
  },
  {
   "cell_type": "markdown",
   "metadata": {},
   "source": [
    "### 1d) - QUESTION\n",
    "\n",
    "Is the data type associated with the variable `x` the same as the data type associated with the variable `y`? Use the `==` operator to check and print the result to screen."
   ]
  },
  {
   "cell_type": "markdown",
   "metadata": {},
   "source": [
    "#### 1d) - SOLUTION"
   ]
  },
  {
   "cell_type": "code",
   "execution_count": 4,
   "metadata": {},
   "outputs": [
    {
     "name": "stdout",
     "output_type": "stream",
     "text": [
      "True\n"
     ]
    }
   ],
   "source": [
    "print(type(x) == type(y))"
   ]
  },
  {
   "cell_type": "markdown",
   "metadata": {},
   "source": [
    "Yes, the data types of variables 'x' and 'y' are the same as both of them have floating point numbers."
   ]
  },
  {
   "cell_type": "markdown",
   "metadata": {},
   "source": [
    "## Problem 02\n",
    "\n",
    "Let's get practice with lists and iterating over elements in a list with for-loops."
   ]
  },
  {
   "cell_type": "markdown",
   "metadata": {},
   "source": [
    "### 2a) - QUESTION\n",
    "Create a list, `x_list`, which consists of 4 elements. The zeroth element in the list should be the integer `1`. The first element in the list should be the string `'2'`. The second element in the list should be the string `'three'`, and the last element in the list should be the float `4.0`."
   ]
  },
  {
   "cell_type": "markdown",
   "metadata": {},
   "source": [
    "#### 2a) - SOLUTION"
   ]
  },
  {
   "cell_type": "code",
   "execution_count": 5,
   "metadata": {},
   "outputs": [],
   "source": [
    "x_list = [1, \"2\", \"three\", 4.0]"
   ]
  },
  {
   "cell_type": "markdown",
   "metadata": {},
   "source": [
    "### 2b) - QUESTION\n",
    "Use the `print()` function to print the value of the second element in `x_list` to the screen. \n",
    "\n",
    "*HINT*: Remember that Python is zero-based indexing."
   ]
  },
  {
   "cell_type": "markdown",
   "metadata": {},
   "source": [
    "#### 2b) - SOLUTION"
   ]
  },
  {
   "cell_type": "code",
   "execution_count": 14,
   "metadata": {},
   "outputs": [
    {
     "name": "stdout",
     "output_type": "stream",
     "text": [
      "three\n"
     ]
    }
   ],
   "source": [
    "print(x_list[2])"
   ]
  },
  {
   "cell_type": "markdown",
   "metadata": {},
   "source": [
    "### 2c) - QUESTION\n",
    "\n",
    "Use the `print()` function to print each element of `x_list` to the screen. You must iterate over the elements in `x_list` with a for-loop."
   ]
  },
  {
   "cell_type": "markdown",
   "metadata": {},
   "source": [
    "#### 2c) - SOLUTION"
   ]
  },
  {
   "cell_type": "code",
   "execution_count": 18,
   "metadata": {},
   "outputs": [
    {
     "name": "stdout",
     "output_type": "stream",
     "text": [
      "1  2  three  4.0  "
     ]
    }
   ],
   "source": [
    "for i in x_list:\n",
    "    print(i, end = \"  \")"
   ]
  },
  {
   "cell_type": "markdown",
   "metadata": {},
   "source": [
    "### 2d) - QUESTION\n",
    "Use the `print()` function to print the data type associated with each element of `x_list` to the screen. You must iterate over the elements in `x_list` with a for-loop."
   ]
  },
  {
   "cell_type": "markdown",
   "metadata": {},
   "source": [
    "#### 2d) - SOLUTION"
   ]
  },
  {
   "cell_type": "code",
   "execution_count": 8,
   "metadata": {},
   "outputs": [
    {
     "name": "stdout",
     "output_type": "stream",
     "text": [
      "<class 'int'>\n",
      "<class 'str'>\n",
      "<class 'str'>\n",
      "<class 'float'>\n"
     ]
    }
   ],
   "source": [
    "for i in x_list:\n",
    "    print(type(i))"
   ]
  },
  {
   "cell_type": "markdown",
   "metadata": {},
   "source": [
    "## Problem 03\n",
    "\n",
    "Let's now use these programming skills but in a setting not discussed in the lecture recordings!\n",
    "\n",
    "### 3a) - QUESTION\n",
    "\n",
    "Create a list, `y_list`, which consists of 2 elements. The zeroth element must be the `x` variable and the first element must be the `y` variable.  \n",
    "\n",
    "Display the `y_list` object to the screen.\n",
    "\n",
    "#### 3a) - SOLUTION"
   ]
  },
  {
   "cell_type": "code",
   "execution_count": 9,
   "metadata": {},
   "outputs": [
    {
     "name": "stdout",
     "output_type": "stream",
     "text": [
      "[4.4, 4.4]\n"
     ]
    }
   ],
   "source": [
    "y_list = [x, y]\n",
    "print(y_list)"
   ]
  },
  {
   "cell_type": "markdown",
   "metadata": {},
   "source": [
    "### 3b) - QUESTION\n",
    "\n",
    "Create a list, `z_list`, which consists of 2 elements. The zeroth element must be the **data type** associated with the `x` variable and the first element must be the **data type** associated with the `y` variable.\n",
    "\n",
    "Display the `z_list` object to the screen.\n",
    "\n",
    "#### 3b) - SOLUTION"
   ]
  },
  {
   "cell_type": "code",
   "execution_count": 10,
   "metadata": {},
   "outputs": [
    {
     "name": "stdout",
     "output_type": "stream",
     "text": [
      "[<class 'float'>, <class 'float'>]\n"
     ]
    }
   ],
   "source": [
    "z_list = [type(x), type(y)]\n",
    "print(z_list)"
   ]
  },
  {
   "cell_type": "markdown",
   "metadata": {},
   "source": [
    "### 3c) - QUESTION\n",
    "\n",
    "Create one final list, `final_list`, which consists of 4 elements. The zeroth element must be the `x_list` object. The first element must be the `y_list` object. The second element must be the `z_list` object. The third element must be the string `'that's a lot of lists!'`.\n",
    "\n",
    "Display the **data type** of the `final_list` object to the screen.\n",
    "\n",
    "#### 3c) - SOLUTION"
   ]
  },
  {
   "cell_type": "code",
   "execution_count": 11,
   "metadata": {},
   "outputs": [],
   "source": [
    "final_list = [x_list, y_list, z_list, \"that's a lot of lists!\"]"
   ]
  },
  {
   "cell_type": "markdown",
   "metadata": {},
   "source": [
    "### 3d) - QUESTION\n",
    "\n",
    "Use the `print()` function to print the **data type** associated with each element of `final_list` to the screen. You must iterate over the elements in `final_list` with a for-loop.\n",
    "\n",
    "#### 3d) - SOLUTION"
   ]
  },
  {
   "cell_type": "code",
   "execution_count": 12,
   "metadata": {},
   "outputs": [
    {
     "name": "stdout",
     "output_type": "stream",
     "text": [
      "<class 'list'>\n",
      "<class 'list'>\n",
      "<class 'list'>\n",
      "<class 'str'>\n"
     ]
    }
   ],
   "source": [
    "for i in final_list:\n",
    "    print(type(i))"
   ]
  },
  {
   "cell_type": "markdown",
   "metadata": {},
   "source": [
    "### 3e) - QUESTION\n",
    "\n",
    "Use the `print()` function to print the length associated with each element of `final_list` to the screen. You must iterate over the elements in `final_list` with a for-loop.\n",
    "\n",
    "#### 3e) - SOLUTION"
   ]
  },
  {
   "cell_type": "code",
   "execution_count": 13,
   "metadata": {},
   "outputs": [
    {
     "name": "stdout",
     "output_type": "stream",
     "text": [
      "4\n",
      "2\n",
      "2\n",
      "22\n"
     ]
    }
   ],
   "source": [
    "for i in final_list:\n",
    "    print(len(i))"
   ]
  },
  {
   "cell_type": "markdown",
   "metadata": {},
   "source": [
    "## Problem 04\n",
    "\n",
    "You will perform an end-to-end data analysis project this sememester with a goal of predicting an outcome. Such predictive analytics problems allow solving many different business and research questions of interest. You will be able to identify important factors which influence the outcome, whether the outcome is a continuous or categorical.  \n",
    "\n",
    "### 4a) - QUESTION\n",
    "\n",
    "Have you fit or trained a predictive model before? If so, what was the application? Was it a regression problem? A classification problem? What kind of model did you use? If you have not, that's ok! State that you have not. In either case, write your response with Markdown text below. Your response just needs to be a few short sentences."
   ]
  },
  {
   "cell_type": "markdown",
   "metadata": {},
   "source": [
    "#### 4a) - SOLUTION\n",
    "\n",
    "Yes, I've trained a predictive model before. As my undergrad thesis project, my team and I built a crop recommender system to predict the ideal crop to be grown at a region under certain atmospheric parameters. We built several classification models. Some of the classifiers we used were CatBoost, XGBoost, Random Forests, Decision Trees etc. This is the link to the final product: https://perfect-crop.onrender.com/"
   ]
  },
  {
   "cell_type": "markdown",
   "metadata": {},
   "source": [
    "### 4b) - QUESTION\n",
    "\n",
    "The introductory lecture walked through the main points of a predictive analytics project. Which aspect of predictive analytics was completely new to you? If you had seen everything before, what aspect do you hope to get more experience with?\n",
    "\n",
    "#### 4b) - SOLUTION\n",
    "\n",
    "Although I've had experience with most of the points covered, tuning models is something that I struggle with. I'm hoping to learn the dos and don'ts of tuning the parameters. Although EDA is something that everyone takes lightly, I kind of want to master it so that my analysis will be on-point."
   ]
  }
 ],
 "metadata": {
  "kernelspec": {
   "display_name": "Python 3 (ipykernel)",
   "language": "python",
   "name": "python3"
  },
  "language_info": {
   "codemirror_mode": {
    "name": "ipython",
    "version": 3
   },
   "file_extension": ".py",
   "mimetype": "text/x-python",
   "name": "python",
   "nbconvert_exporter": "python",
   "pygments_lexer": "ipython3",
   "version": "3.8.17"
  }
 },
 "nbformat": 4,
 "nbformat_minor": 2
}
